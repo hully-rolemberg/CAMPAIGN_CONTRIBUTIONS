{
 "cells": [
  {
   "cell_type": "code",
   "execution_count": 1,
   "metadata": {},
   "outputs": [],
   "source": [
    "import numpy as np\n",
    "import pandas as pd\n",
    "import seaborn as sns\n",
    "\n",
    "%matplotlib inline\n",
    "import matplotlib.pyplot as plt\n",
    "plt.rc('figure', figsize = (14,6))\n",
    "from matplotlib.ticker import FuncFormatter"
   ]
  },
  {
   "cell_type": "code",
   "execution_count": 2,
   "metadata": {},
   "outputs": [],
   "source": [
    "pd.options.display.float_format = '{:.2f}'.format\n"
   ]
  },
  {
   "cell_type": "code",
   "execution_count": 3,
   "metadata": {},
   "outputs": [
    {
     "name": "stderr",
     "output_type": "stream",
     "text": [
      "C:\\Users\\Rolemberg\\anaconda3\\lib\\site-packages\\IPython\\core\\interactiveshell.py:3063: DtypeWarning: Columns (6) have mixed types.Specify dtype option on import or set low_memory=False.\n",
      "  interactivity=interactivity, compiler=compiler, result=result)\n",
      "C:\\Users\\Rolemberg\\anaconda3\\lib\\site-packages\\IPython\\core\\interactiveshell.py:3063: DtypeWarning: Columns (11) have mixed types.Specify dtype option on import or set low_memory=False.\n",
      "  interactivity=interactivity, compiler=compiler, result=result)\n"
     ]
    }
   ],
   "source": [
    "df2006 = pd.read_csv('ReceitasCandidatos2006.csv', sep = ';', encoding='latin-1', decimal=',')\n",
    "df2010 = pd.read_csv('ReceitasCandidatos2010.csv', sep = ';', encoding='latin-1', decimal='.')\n",
    "df2014 = pd.read_csv('ReceitasCandidatos2014.csv', sep = ';', decimal='.')"
   ]
  },
  {
   "cell_type": "code",
   "execution_count": 6,
   "metadata": {},
   "outputs": [],
   "source": [
    "# filenames = ['ReceitasCandidatos_AC.txt', 'ReceitasCandidatos_AL.txt', 'ReceitasCandidatos_AM.txt', \n",
    "#             'ReceitasCandidatos_AP.txt', 'ReceitasCandidatos_BA.txt', 'ReceitasCandidatos_CE.txt',\n",
    "#             'ReceitasCandidatos_DF.txt', 'ReceitasCandidatos_ES.txt', 'ReceitasCandidatos_GO.txt',\n",
    "#             'ReceitasCandidatos_MA.txt', 'ReceitasCandidatos_MG.txt', 'ReceitasCandidatos_MS.txt',\n",
    "#             'ReceitasCandidatos_MT.txt', 'ReceitasCandidatos_PA.txt', 'ReceitasCandidatos_PB.txt',\n",
    "#             'ReceitasCandidatos_PE.txt', 'ReceitasCandidatos_PI.txt', 'ReceitasCandidatos_PR.txt',\n",
    "#             'ReceitasCandidatos_RJ.txt', 'ReceitasCandidatos_RN.txt', 'ReceitasCandidatos_RO.txt',\n",
    "#             'ReceitasCandidatos_RR.txt', 'ReceitasCandidatos_RS.txt', 'ReceitasCandidatos_SC.txt',\n",
    "#             'ReceitasCandidatos_SE.txt', 'ReceitasCandidatos_SP.txt', 'ReceitasCandidatos_TO.txt']\n"
   ]
  },
  {
   "cell_type": "code",
   "execution_count": 7,
   "metadata": {},
   "outputs": [],
   "source": [
    "#with open('ReceitasCandidatos2010.csv', 'w') as outfile:\n",
    "#    for fname in filenames:\n",
    "#        with open(fname) as infile:\n",
    "#            for line in infile:\n",
    "#                outfile.write(line)"
   ]
  },
  {
   "cell_type": "code",
   "execution_count": 8,
   "metadata": {},
   "outputs": [
    {
     "data": {
      "text/plain": [
       "20030312.45"
      ]
     },
     "execution_count": 8,
     "metadata": {},
     "output_type": "execute_result"
    }
   ],
   "source": [
    "max(df2006['VALOR_RECEITA'])"
   ]
  },
  {
   "cell_type": "code",
   "execution_count": 9,
   "metadata": {},
   "outputs": [
    {
     "data": {
      "text/plain": [
       "14857097.94"
      ]
     },
     "execution_count": 9,
     "metadata": {},
     "output_type": "execute_result"
    }
   ],
   "source": [
    "max(df2010['VALOR_RECEITA'])"
   ]
  },
  {
   "cell_type": "code",
   "execution_count": 10,
   "metadata": {},
   "outputs": [
    {
     "data": {
      "text/plain": [
       "14000000.0"
      ]
     },
     "execution_count": 10,
     "metadata": {},
     "output_type": "execute_result"
    }
   ],
   "source": [
    "max(df2014['Valor receita'])"
   ]
  },
  {
   "cell_type": "code",
   "execution_count": 11,
   "metadata": {},
   "outputs": [
    {
     "data": {
      "text/plain": [
       "0                   RECURSOS DE OUTROS CANDIDATOS/COMITÊS\n",
       "4                             RECURSOS DE PESSOAS FÍSICAS\n",
       "5                                       RECURSOS PRÓPRIOS\n",
       "21                          RECURSOS DE PESSOAS JURÍDICAS\n",
       "22                           RECURSOS DE PARTIDO POLÍTICO\n",
       "386                 RENDIMENTOS DE APLICAÇÕES FINANCEIRAS\n",
       "413     DESCRIÇÃO DAS DOAÇÕES RELATIVAS À COMERCIALIZAÇÃO\n",
       "1603     COMERCIALIZAÇÃO DE BENS OU REALIZAÇÃO DE EVENTOS\n",
       "2204                RECURSOS DE ORIGENS NÃO IDENTIFICADAS\n",
       "Name: TIPO_RECEITA, dtype: object"
      ]
     },
     "execution_count": 11,
     "metadata": {},
     "output_type": "execute_result"
    }
   ],
   "source": [
    "df2006['TIPO_RECEITA'].drop_duplicates()"
   ]
  },
  {
   "cell_type": "code",
   "execution_count": 12,
   "metadata": {},
   "outputs": [
    {
     "data": {
      "text/plain": [
       "0                                        Recursos próprios\n",
       "3                              Recursos de pessoas físicas\n",
       "8                    RECURSOS DE OUTROS CANDIDATOS/COMITÊS\n",
       "21                           Recursos de pessoas jurídicas\n",
       "41                            RECURSOS DE PARTIDO POLÍTICO\n",
       "5907     Descrição das doações relativas à comercialização\n",
       "6053                 Rendimentos de aplicações financeiras\n",
       "8749                 Recursos de origens não identificadas\n",
       "47705                                DOAÇÕES PELA INTERNET\n",
       "Name: TIPO_RECEITA, dtype: object"
      ]
     },
     "execution_count": 12,
     "metadata": {},
     "output_type": "execute_result"
    }
   ],
   "source": [
    "df2010['TIPO_RECEITA'].drop_duplicates()"
   ]
  },
  {
   "cell_type": "code",
   "execution_count": 13,
   "metadata": {},
   "outputs": [
    {
     "data": {
      "text/plain": [
       "Index(['Cód. Eleição', 'Desc. Eleição', 'Data e hora', 'CNPJ Prestador Conta',\n",
       "       'Sequencial Candidato', 'UF', 'Sigla  Partido', 'Numero candidato',\n",
       "       'Cargo', 'Nome candidato', 'CPF do candidato',\n",
       "       'Numero Recibo Eleitoral', 'Numero do documento', 'CPF/CNPJ do doador',\n",
       "       'Nome do doador', 'Nome do doador (Receita Federal)', 'Sigla UE doador',\n",
       "       'Número partido doador', 'Número candidato doador',\n",
       "       'Cod setor econômico do doador', 'Setor econômico do doador',\n",
       "       'Data da receita', 'Valor receita', 'Tipo receita', 'Fonte recurso',\n",
       "       'Especie recurso', 'Descricao da receita',\n",
       "       'CPF/CNPJ do doador originário', 'Nome do doador originário',\n",
       "       'Tipo doador originário', 'Setor econômico do doador originário',\n",
       "       'Nome do doador originário (Receita Federal)'],\n",
       "      dtype='object')"
      ]
     },
     "execution_count": 13,
     "metadata": {},
     "output_type": "execute_result"
    }
   ],
   "source": [
    "df2014.columns\n"
   ]
  },
  {
   "cell_type": "code",
   "execution_count": 14,
   "metadata": {},
   "outputs": [
    {
     "data": {
      "text/plain": [
       "0                    Recursos de outros candidatos/comitês\n",
       "1                            Recursos de pessoas jurídicas\n",
       "21                            Recursos de partido político\n",
       "46                                       Recursos próprios\n",
       "204                            Recursos de pessoas físicas\n",
       "8031                 Recursos de origens não identificadas\n",
       "11191                                Doações pela Internet\n",
       "43384                Rendimentos de aplicações financeiras\n",
       "226661    Comercialização de bens ou realização de eventos\n",
       "Name: Tipo receita, dtype: object"
      ]
     },
     "execution_count": 14,
     "metadata": {},
     "output_type": "execute_result"
    }
   ],
   "source": [
    "df2014['Tipo receita'].drop_duplicates()"
   ]
  },
  {
   "cell_type": "code",
   "execution_count": 15,
   "metadata": {},
   "outputs": [
    {
     "data": {
      "text/plain": [
       "0              #NULO#\n",
       "1              #NULO#\n",
       "2              #NULO#\n",
       "3              #NULO#\n",
       "4         69987262287\n",
       "             ...     \n",
       "265574    54365422634\n",
       "265575    54365422634\n",
       "265576    54365422634\n",
       "265577    01398534641\n",
       "265578    52013987668\n",
       "Name: NUMERO_CPF_CGC_DOADOR, Length: 265579, dtype: object"
      ]
     },
     "execution_count": 15,
     "metadata": {},
     "output_type": "execute_result"
    }
   ],
   "source": [
    "df2006['NUMERO_CPF_CGC_DOADOR'].astype('str')"
   ]
  },
  {
   "cell_type": "code",
   "execution_count": 16,
   "metadata": {},
   "outputs": [
    {
     "data": {
      "text/plain": [
       "0             969060220\n",
       "1             969060220\n",
       "2             969060220\n",
       "3           11286571200\n",
       "4            8558884234\n",
       "              ...      \n",
       "427012    15379932835.0\n",
       "427013    53260198091.0\n",
       "427014     6237464921.0\n",
       "427015    69481997120.0\n",
       "427016     2559854791.0\n",
       "Name: CPF_CNPJ_DOADOR, Length: 427017, dtype: object"
      ]
     },
     "execution_count": 16,
     "metadata": {},
     "output_type": "execute_result"
    }
   ],
   "source": [
    "df2010['CPF_CNPJ_DOADOR'].astype('str')"
   ]
  },
  {
   "cell_type": "code",
   "execution_count": 17,
   "metadata": {},
   "outputs": [
    {
     "data": {
      "text/plain": [
       "0            2.06E+13\n",
       "1            1.73E+13\n",
       "2            2.92E+12\n",
       "3            2.92E+12\n",
       "4            2.92E+12\n",
       "             ...     \n",
       "427484       1.06E+13\n",
       "427485       2.47E+12\n",
       "427486     7768156870\n",
       "427487     4045615946\n",
       "427488    34454020787\n",
       "Name: CPF/CNPJ do doador, Length: 427489, dtype: object"
      ]
     },
     "execution_count": 17,
     "metadata": {},
     "output_type": "execute_result"
    }
   ],
   "source": [
    "df2014['CPF/CNPJ do doador'].astype('str')"
   ]
  },
  {
   "cell_type": "code",
   "execution_count": 18,
   "metadata": {},
   "outputs": [],
   "source": [
    "df2006_jur = df2006[df2006['TIPO_RECEITA'] == 'RECURSOS DE PESSOAS JURÍDICAS']\n",
    "df2010_jur = df2010[df2010['TIPO_RECEITA'] == 'Recursos de pessoas jurídicas']\n",
    "df2014_jur = df2014[df2014['Tipo receita'] == 'Recursos de pessoas jurídicas']"
   ]
  },
  {
   "cell_type": "code",
   "execution_count": 19,
   "metadata": {},
   "outputs": [
    {
     "name": "stderr",
     "output_type": "stream",
     "text": [
      "C:\\Users\\Rolemberg\\anaconda3\\lib\\site-packages\\ipykernel_launcher.py:1: UserWarning: Boolean Series key will be reindexed to match DataFrame index.\n",
      "  \"\"\"Entry point for launching an IPython kernel.\n",
      "C:\\Users\\Rolemberg\\anaconda3\\lib\\site-packages\\ipykernel_launcher.py:4: UserWarning: Boolean Series key will be reindexed to match DataFrame index.\n",
      "  after removing the cwd from sys.path.\n",
      "C:\\Users\\Rolemberg\\anaconda3\\lib\\site-packages\\ipykernel_launcher.py:7: UserWarning: Boolean Series key will be reindexed to match DataFrame index.\n",
      "  import sys\n"
     ]
    }
   ],
   "source": [
    "df2006_jur = df2006_jur[df2006['NUMERO_CPF_CGC_DOADOR'] != '00000000000000']\n",
    "df2006_jur = df2006_jur[df2006_jur['DESCRICAO_TIPO_RECURSO'] != 'NaN']\n",
    "\n",
    "df2010_jur = df2010_jur[df2010['CPF_CNPJ_DOADOR'] != '00000000000000']\n",
    "df2010_jur = df2010_jur[df2010_jur['ESPECIE_RECURSO'] != 'NaN']\n",
    "\n",
    "df2014_jur = df2014_jur[df2014['CPF/CNPJ do doador'] != '00000000000000']\n",
    "df2014_jur = df2014_jur[df2014_jur['Especie recurso'] != 'NaN']\n"
   ]
  },
  {
   "cell_type": "code",
   "execution_count": 20,
   "metadata": {},
   "outputs": [],
   "source": [
    "df2006_jur_dep = df2006_jur[df2006_jur['DESCRICAO_CARGO'] == 'Deputado Federal']\n",
    "df2010_jur_dep = df2010_jur[df2010_jur['CARGO'] == 'Deputado Federal']\n",
    "df2014_jur_dep = df2014_jur[df2014_jur['Cargo'] == 'Deputado Federal']"
   ]
  },
  {
   "cell_type": "code",
   "execution_count": 21,
   "metadata": {},
   "outputs": [],
   "source": [
    "df2006_jur_dep_sd = df2006_jur_dep[df2006_jur_dep['DESCRICAO_TIPO_RECURSO'] != 'DEPÓSITO EM ESPÉCIE']\n",
    "df2010_jur_dep_sd = df2010_jur_dep[df2010_jur_dep['ESPECIE_RECURSO'] != 'Depósito em espécie']\n",
    "df2014_jur_dep_sd = df2014_jur_dep[df2014_jur_dep['Especie recurso'] != 'Depósito em espécie']"
   ]
  },
  {
   "cell_type": "code",
   "execution_count": 22,
   "metadata": {},
   "outputs": [],
   "source": [
    "df2006_jur_sd = df2006_jur[df2006_jur['DESCRICAO_TIPO_RECURSO'] != 'DEPÓSITO EM ESPÉCIE']\n",
    "df2010_jur_sd = df2010_jur[df2010_jur['ESPECIE_RECURSO'] != 'Depósito em espécie']\n",
    "df2014_jur_sd = df2014_jur[df2014_jur['Especie recurso'] != 'Depósito em espécie']"
   ]
  },
  {
   "cell_type": "code",
   "execution_count": 23,
   "metadata": {},
   "outputs": [
    {
     "data": {
      "text/plain": [
       "0.9113293481354967"
      ]
     },
     "execution_count": 23,
     "metadata": {},
     "output_type": "execute_result"
    }
   ],
   "source": [
    "len(df2006_jur_dep_sd)/len(df2006_jur_dep)"
   ]
  },
  {
   "cell_type": "code",
   "execution_count": 24,
   "metadata": {},
   "outputs": [
    {
     "data": {
      "text/plain": [
       "0.8972791400738999"
      ]
     },
     "execution_count": 24,
     "metadata": {},
     "output_type": "execute_result"
    }
   ],
   "source": [
    "len(df2010_jur_dep_sd)/len(df2010_jur_dep)"
   ]
  },
  {
   "cell_type": "code",
   "execution_count": 25,
   "metadata": {},
   "outputs": [
    {
     "data": {
      "text/plain": [
       "0.9233016304347826"
      ]
     },
     "execution_count": 25,
     "metadata": {},
     "output_type": "execute_result"
    }
   ],
   "source": [
    "len(df2014_jur_dep_sd)/len(df2014_jur_dep)"
   ]
  },
  {
   "cell_type": "code",
   "execution_count": 26,
   "metadata": {},
   "outputs": [],
   "source": [
    "tb2006_cargo = pd.pivot_table(df2006_jur_sd, values = 'VALOR_RECEITA', index = 'DESCRICAO_CARGO', columns = 'NUMERO_CPF_CGC_DOADOR', aggfunc = 'sum')\n",
    "tb2006_cargo['valor_medio_2006'] = tb2006_cargo.mean(axis=1)\n",
    "tb2006_cargo['valor_max_2006'] =  tb2006_cargo.max(axis=1)\n",
    "tb2006_cargo['valor_min_2006'] =  tb2006_cargo.min(axis=1)\n",
    "tb2006_cargo['valor_total_2006'] =  tb2006_cargo.sum(axis=1)"
   ]
  },
  {
   "cell_type": "code",
   "execution_count": 27,
   "metadata": {},
   "outputs": [
    {
     "data": {
      "text/html": [
       "<div>\n",
       "<style scoped>\n",
       "    .dataframe tbody tr th:only-of-type {\n",
       "        vertical-align: middle;\n",
       "    }\n",
       "\n",
       "    .dataframe tbody tr th {\n",
       "        vertical-align: top;\n",
       "    }\n",
       "\n",
       "    .dataframe thead th {\n",
       "        text-align: right;\n",
       "    }\n",
       "</style>\n",
       "<table border=\"1\" class=\"dataframe\">\n",
       "  <thead>\n",
       "    <tr style=\"text-align: right;\">\n",
       "      <th>NUMERO_CPF_CGC_DOADOR</th>\n",
       "      <th>valor_medio_2006</th>\n",
       "      <th>valor_max_2006</th>\n",
       "      <th>valor_min_2006</th>\n",
       "      <th>valor_total_2006</th>\n",
       "    </tr>\n",
       "    <tr>\n",
       "      <th>DESCRICAO_CARGO</th>\n",
       "      <th></th>\n",
       "      <th></th>\n",
       "      <th></th>\n",
       "      <th></th>\n",
       "    </tr>\n",
       "  </thead>\n",
       "  <tbody>\n",
       "    <tr>\n",
       "      <th>Deputado Distrital</th>\n",
       "      <td>20083.85</td>\n",
       "      <td>669501.23</td>\n",
       "      <td>40.00</td>\n",
       "      <td>7377545.80</td>\n",
       "    </tr>\n",
       "    <tr>\n",
       "      <th>Deputado Estadual</th>\n",
       "      <td>16401.53</td>\n",
       "      <td>1870000.00</td>\n",
       "      <td>0.00</td>\n",
       "      <td>150008598.82</td>\n",
       "    </tr>\n",
       "    <tr>\n",
       "      <th>Deputado Federal</th>\n",
       "      <td>34069.83</td>\n",
       "      <td>5500000.00</td>\n",
       "      <td>0.01</td>\n",
       "      <td>224364556.41</td>\n",
       "    </tr>\n",
       "    <tr>\n",
       "      <th>Governador</th>\n",
       "      <td>97349.87</td>\n",
       "      <td>4000000.00</td>\n",
       "      <td>8.48</td>\n",
       "      <td>180982065.46</td>\n",
       "    </tr>\n",
       "    <tr>\n",
       "      <th>Presidente</th>\n",
       "      <td>85860.33</td>\n",
       "      <td>1000000.00</td>\n",
       "      <td>160.00</td>\n",
       "      <td>3661830.30</td>\n",
       "    </tr>\n",
       "    <tr>\n",
       "      <th>Senador</th>\n",
       "      <td>57774.07</td>\n",
       "      <td>2942000.00</td>\n",
       "      <td>50.00</td>\n",
       "      <td>42286192.15</td>\n",
       "    </tr>\n",
       "  </tbody>\n",
       "</table>\n",
       "</div>"
      ],
      "text/plain": [
       "NUMERO_CPF_CGC_DOADOR  valor_medio_2006  valor_max_2006  valor_min_2006  \\\n",
       "DESCRICAO_CARGO                                                           \n",
       "Deputado Distrital             20083.85       669501.23           40.00   \n",
       "Deputado Estadual              16401.53      1870000.00            0.00   \n",
       "Deputado Federal               34069.83      5500000.00            0.01   \n",
       "Governador                     97349.87      4000000.00            8.48   \n",
       "Presidente                     85860.33      1000000.00          160.00   \n",
       "Senador                        57774.07      2942000.00           50.00   \n",
       "\n",
       "NUMERO_CPF_CGC_DOADOR  valor_total_2006  \n",
       "DESCRICAO_CARGO                          \n",
       "Deputado Distrital           7377545.80  \n",
       "Deputado Estadual          150008598.82  \n",
       "Deputado Federal           224364556.41  \n",
       "Governador                 180982065.46  \n",
       "Presidente                   3661830.30  \n",
       "Senador                     42286192.15  "
      ]
     },
     "execution_count": 27,
     "metadata": {},
     "output_type": "execute_result"
    }
   ],
   "source": [
    "tb2006_cargo_resumo = tb2006_cargo[['valor_medio_2006', 'valor_max_2006', 'valor_min_2006', 'valor_total_2006']]\n",
    "tb2006_cargo_resumo"
   ]
  },
  {
   "cell_type": "code",
   "execution_count": 28,
   "metadata": {
    "scrolled": true
   },
   "outputs": [],
   "source": [
    "tb2010_cargo = pd.pivot_table(df2010_jur_sd, values = 'VALOR_RECEITA', index = 'CARGO', columns = 'CPF_CNPJ_DOADOR', aggfunc = 'sum')\n",
    "tb2010_cargo['valor_medio_2010'] = tb2010_cargo.mean(axis=1)\n",
    "tb2010_cargo['valor_max_2010'] =  tb2010_cargo.max(axis=1)\n",
    "tb2010_cargo['valor_min_2010'] =  tb2010_cargo.min(axis=1)\n",
    "tb2010_cargo['valor_total_2010'] =  tb2010_cargo.sum(axis=1)"
   ]
  },
  {
   "cell_type": "code",
   "execution_count": 29,
   "metadata": {},
   "outputs": [
    {
     "data": {
      "text/html": [
       "<div>\n",
       "<style scoped>\n",
       "    .dataframe tbody tr th:only-of-type {\n",
       "        vertical-align: middle;\n",
       "    }\n",
       "\n",
       "    .dataframe tbody tr th {\n",
       "        vertical-align: top;\n",
       "    }\n",
       "\n",
       "    .dataframe thead th {\n",
       "        text-align: right;\n",
       "    }\n",
       "</style>\n",
       "<table border=\"1\" class=\"dataframe\">\n",
       "  <thead>\n",
       "    <tr style=\"text-align: right;\">\n",
       "      <th>CPF_CNPJ_DOADOR</th>\n",
       "      <th>valor_medio_2010</th>\n",
       "      <th>valor_max_2010</th>\n",
       "      <th>valor_min_2010</th>\n",
       "      <th>valor_total_2010</th>\n",
       "    </tr>\n",
       "    <tr>\n",
       "      <th>CARGO</th>\n",
       "      <th></th>\n",
       "      <th></th>\n",
       "      <th></th>\n",
       "      <th></th>\n",
       "    </tr>\n",
       "  </thead>\n",
       "  <tbody>\n",
       "    <tr>\n",
       "      <th>1º Suplente Senador</th>\n",
       "      <td>14564.61</td>\n",
       "      <td>55253.21</td>\n",
       "      <td>100.00</td>\n",
       "      <td>492291.63</td>\n",
       "    </tr>\n",
       "    <tr>\n",
       "      <th>2º Suplente Senador</th>\n",
       "      <td>17750.00</td>\n",
       "      <td>45000.00</td>\n",
       "      <td>3000.00</td>\n",
       "      <td>207750.00</td>\n",
       "    </tr>\n",
       "    <tr>\n",
       "      <th>Deputado Distrital</th>\n",
       "      <td>24723.77</td>\n",
       "      <td>450000.00</td>\n",
       "      <td>1.00</td>\n",
       "      <td>7298486.42</td>\n",
       "    </tr>\n",
       "    <tr>\n",
       "      <th>Deputado Estadual</th>\n",
       "      <td>94825.19</td>\n",
       "      <td>5383677.46</td>\n",
       "      <td>27.75</td>\n",
       "      <td>257334245.40</td>\n",
       "    </tr>\n",
       "    <tr>\n",
       "      <th>Deputado Federal</th>\n",
       "      <td>142513.80</td>\n",
       "      <td>9050885.84</td>\n",
       "      <td>6.00</td>\n",
       "      <td>348803784.22</td>\n",
       "    </tr>\n",
       "    <tr>\n",
       "      <th>Governador</th>\n",
       "      <td>240249.69</td>\n",
       "      <td>17900000.00</td>\n",
       "      <td>30.00</td>\n",
       "      <td>291063924.61</td>\n",
       "    </tr>\n",
       "    <tr>\n",
       "      <th>Presidente</th>\n",
       "      <td>467245.76</td>\n",
       "      <td>9000000.00</td>\n",
       "      <td>690.00</td>\n",
       "      <td>24887045.76</td>\n",
       "    </tr>\n",
       "    <tr>\n",
       "      <th>Senador</th>\n",
       "      <td>145880.49</td>\n",
       "      <td>12580000.00</td>\n",
       "      <td>60.00</td>\n",
       "      <td>144601901.21</td>\n",
       "    </tr>\n",
       "    <tr>\n",
       "      <th>Vice-Governador</th>\n",
       "      <td>82853.99</td>\n",
       "      <td>557875.00</td>\n",
       "      <td>2379.81</td>\n",
       "      <td>4454392.15</td>\n",
       "    </tr>\n",
       "    <tr>\n",
       "      <th>Vice-Presidente</th>\n",
       "      <td>153379.40</td>\n",
       "      <td>1268485.12</td>\n",
       "      <td>6000.00</td>\n",
       "      <td>5262349.64</td>\n",
       "    </tr>\n",
       "  </tbody>\n",
       "</table>\n",
       "</div>"
      ],
      "text/plain": [
       "CPF_CNPJ_DOADOR      valor_medio_2010  valor_max_2010  valor_min_2010  \\\n",
       "CARGO                                                                   \n",
       "1º Suplente Senador          14564.61        55253.21          100.00   \n",
       "2º Suplente Senador          17750.00        45000.00         3000.00   \n",
       "Deputado Distrital           24723.77       450000.00            1.00   \n",
       "Deputado Estadual            94825.19      5383677.46           27.75   \n",
       "Deputado Federal            142513.80      9050885.84            6.00   \n",
       "Governador                  240249.69     17900000.00           30.00   \n",
       "Presidente                  467245.76      9000000.00          690.00   \n",
       "Senador                     145880.49     12580000.00           60.00   \n",
       "Vice-Governador              82853.99       557875.00         2379.81   \n",
       "Vice-Presidente             153379.40      1268485.12         6000.00   \n",
       "\n",
       "CPF_CNPJ_DOADOR      valor_total_2010  \n",
       "CARGO                                  \n",
       "1º Suplente Senador         492291.63  \n",
       "2º Suplente Senador         207750.00  \n",
       "Deputado Distrital         7298486.42  \n",
       "Deputado Estadual        257334245.40  \n",
       "Deputado Federal         348803784.22  \n",
       "Governador               291063924.61  \n",
       "Presidente                24887045.76  \n",
       "Senador                  144601901.21  \n",
       "Vice-Governador            4454392.15  \n",
       "Vice-Presidente            5262349.64  "
      ]
     },
     "execution_count": 29,
     "metadata": {},
     "output_type": "execute_result"
    }
   ],
   "source": [
    "tb2010_cargo_resumo = tb2010_cargo[['valor_medio_2010', 'valor_max_2010', 'valor_min_2010', 'valor_total_2010']]\n",
    "tb2010_cargo_resumo"
   ]
  },
  {
   "cell_type": "code",
   "execution_count": 30,
   "metadata": {},
   "outputs": [],
   "source": [
    "tb2014_cargo = pd.pivot_table(df2014_jur_sd, values = 'Valor receita', index = 'Cargo', columns = 'CPF/CNPJ do doador', aggfunc = 'sum')\n",
    "tb2014_cargo['valor_medio_2014'] = tb2014_cargo.mean(axis=1)\n",
    "tb2014_cargo['valor_max_2014'] =  tb2014_cargo.max(axis=1)\n",
    "tb2014_cargo['valor_min_2014'] =  tb2014_cargo.min(axis=1)\n",
    "tb2014_cargo['valor_total_2014'] =  tb2014_cargo.sum(axis=1)"
   ]
  },
  {
   "cell_type": "code",
   "execution_count": 31,
   "metadata": {},
   "outputs": [
    {
     "data": {
      "text/html": [
       "<div>\n",
       "<style scoped>\n",
       "    .dataframe tbody tr th:only-of-type {\n",
       "        vertical-align: middle;\n",
       "    }\n",
       "\n",
       "    .dataframe tbody tr th {\n",
       "        vertical-align: top;\n",
       "    }\n",
       "\n",
       "    .dataframe thead th {\n",
       "        text-align: right;\n",
       "    }\n",
       "</style>\n",
       "<table border=\"1\" class=\"dataframe\">\n",
       "  <thead>\n",
       "    <tr style=\"text-align: right;\">\n",
       "      <th>CPF/CNPJ do doador</th>\n",
       "      <th>valor_medio_2014</th>\n",
       "      <th>valor_max_2014</th>\n",
       "      <th>valor_min_2014</th>\n",
       "      <th>valor_total_2014</th>\n",
       "    </tr>\n",
       "    <tr>\n",
       "      <th>Cargo</th>\n",
       "      <th></th>\n",
       "      <th></th>\n",
       "      <th></th>\n",
       "      <th></th>\n",
       "    </tr>\n",
       "  </thead>\n",
       "  <tbody>\n",
       "    <tr>\n",
       "      <th>Deputado Distrital</th>\n",
       "      <td>33143.40</td>\n",
       "      <td>1176898.00</td>\n",
       "      <td>1.27</td>\n",
       "      <td>9893613.11</td>\n",
       "    </tr>\n",
       "    <tr>\n",
       "      <th>Deputado Estadual</th>\n",
       "      <td>140371.08</td>\n",
       "      <td>4106674.00</td>\n",
       "      <td>1.15</td>\n",
       "      <td>256774622.37</td>\n",
       "    </tr>\n",
       "    <tr>\n",
       "      <th>Deputado Federal</th>\n",
       "      <td>189600.64</td>\n",
       "      <td>7322313.89</td>\n",
       "      <td>57.50</td>\n",
       "      <td>337227490.33</td>\n",
       "    </tr>\n",
       "    <tr>\n",
       "      <th>Governador</th>\n",
       "      <td>239465.86</td>\n",
       "      <td>12061998.00</td>\n",
       "      <td>45.85</td>\n",
       "      <td>264459058.27</td>\n",
       "    </tr>\n",
       "    <tr>\n",
       "      <th>Presidente</th>\n",
       "      <td>1561480.20</td>\n",
       "      <td>54000000.00</td>\n",
       "      <td>108.66</td>\n",
       "      <td>372542069.92</td>\n",
       "    </tr>\n",
       "    <tr>\n",
       "      <th>Senador</th>\n",
       "      <td>151516.02</td>\n",
       "      <td>2215000.00</td>\n",
       "      <td>0.93</td>\n",
       "      <td>68427503.55</td>\n",
       "    </tr>\n",
       "  </tbody>\n",
       "</table>\n",
       "</div>"
      ],
      "text/plain": [
       "CPF/CNPJ do doador  valor_medio_2014  valor_max_2014  valor_min_2014  \\\n",
       "Cargo                                                                  \n",
       "Deputado Distrital          33143.40      1176898.00            1.27   \n",
       "Deputado Estadual          140371.08      4106674.00            1.15   \n",
       "Deputado Federal           189600.64      7322313.89           57.50   \n",
       "Governador                 239465.86     12061998.00           45.85   \n",
       "Presidente                1561480.20     54000000.00          108.66   \n",
       "Senador                    151516.02      2215000.00            0.93   \n",
       "\n",
       "CPF/CNPJ do doador  valor_total_2014  \n",
       "Cargo                                 \n",
       "Deputado Distrital        9893613.11  \n",
       "Deputado Estadual       256774622.37  \n",
       "Deputado Federal        337227490.33  \n",
       "Governador              264459058.27  \n",
       "Presidente              372542069.92  \n",
       "Senador                  68427503.55  "
      ]
     },
     "execution_count": 31,
     "metadata": {},
     "output_type": "execute_result"
    }
   ],
   "source": [
    "tb2014_cargo_resumo = tb2014_cargo[['valor_medio_2014', 'valor_max_2014', 'valor_min_2014', 'valor_total_2014']]\n",
    "tb2014_cargo_resumo"
   ]
  },
  {
   "cell_type": "code",
   "execution_count": 32,
   "metadata": {
    "scrolled": true
   },
   "outputs": [
    {
     "data": {
      "text/html": [
       "<div>\n",
       "<style scoped>\n",
       "    .dataframe tbody tr th:only-of-type {\n",
       "        vertical-align: middle;\n",
       "    }\n",
       "\n",
       "    .dataframe tbody tr th {\n",
       "        vertical-align: top;\n",
       "    }\n",
       "\n",
       "    .dataframe thead th {\n",
       "        text-align: right;\n",
       "    }\n",
       "</style>\n",
       "<table border=\"1\" class=\"dataframe\">\n",
       "  <thead>\n",
       "    <tr style=\"text-align: right;\">\n",
       "      <th></th>\n",
       "      <th>Contributions Total Revenue</th>\n",
       "    </tr>\n",
       "    <tr>\n",
       "      <th>SIGLA_PARTIDO</th>\n",
       "      <th></th>\n",
       "    </tr>\n",
       "  </thead>\n",
       "  <tbody>\n",
       "    <tr>\n",
       "      <th>PAN</th>\n",
       "      <td>749679.45</td>\n",
       "    </tr>\n",
       "    <tr>\n",
       "      <th>PC do B</th>\n",
       "      <td>5498693.75</td>\n",
       "    </tr>\n",
       "    <tr>\n",
       "      <th>PCB</th>\n",
       "      <td>13198.00</td>\n",
       "    </tr>\n",
       "    <tr>\n",
       "      <th>PDT</th>\n",
       "      <td>26477384.56</td>\n",
       "    </tr>\n",
       "    <tr>\n",
       "      <th>PFL</th>\n",
       "      <td>77143088.59</td>\n",
       "    </tr>\n",
       "    <tr>\n",
       "      <th>PHS</th>\n",
       "      <td>914027.18</td>\n",
       "    </tr>\n",
       "    <tr>\n",
       "      <th>PL</th>\n",
       "      <td>15992063.73</td>\n",
       "    </tr>\n",
       "    <tr>\n",
       "      <th>PMDB</th>\n",
       "      <td>128951445.87</td>\n",
       "    </tr>\n",
       "    <tr>\n",
       "      <th>PMN</th>\n",
       "      <td>3218491.67</td>\n",
       "    </tr>\n",
       "    <tr>\n",
       "      <th>PP</th>\n",
       "      <td>34094431.93</td>\n",
       "    </tr>\n",
       "    <tr>\n",
       "      <th>PPS</th>\n",
       "      <td>31076793.92</td>\n",
       "    </tr>\n",
       "    <tr>\n",
       "      <th>PRB</th>\n",
       "      <td>55340.00</td>\n",
       "    </tr>\n",
       "    <tr>\n",
       "      <th>PRONA</th>\n",
       "      <td>1160089.42</td>\n",
       "    </tr>\n",
       "    <tr>\n",
       "      <th>PRP</th>\n",
       "      <td>1090877.94</td>\n",
       "    </tr>\n",
       "    <tr>\n",
       "      <th>PRTB</th>\n",
       "      <td>837880.66</td>\n",
       "    </tr>\n",
       "    <tr>\n",
       "      <th>PSB</th>\n",
       "      <td>22548187.46</td>\n",
       "    </tr>\n",
       "    <tr>\n",
       "      <th>PSC</th>\n",
       "      <td>4647620.30</td>\n",
       "    </tr>\n",
       "    <tr>\n",
       "      <th>PSDB</th>\n",
       "      <td>121890179.53</td>\n",
       "    </tr>\n",
       "    <tr>\n",
       "      <th>PSDC</th>\n",
       "      <td>2318908.38</td>\n",
       "    </tr>\n",
       "    <tr>\n",
       "      <th>PSL</th>\n",
       "      <td>780162.81</td>\n",
       "    </tr>\n",
       "    <tr>\n",
       "      <th>PSOL</th>\n",
       "      <td>138441.59</td>\n",
       "    </tr>\n",
       "    <tr>\n",
       "      <th>PSTU</th>\n",
       "      <td>1179.64</td>\n",
       "    </tr>\n",
       "    <tr>\n",
       "      <th>PT</th>\n",
       "      <td>70299272.73</td>\n",
       "    </tr>\n",
       "    <tr>\n",
       "      <th>PT do B</th>\n",
       "      <td>919393.20</td>\n",
       "    </tr>\n",
       "    <tr>\n",
       "      <th>PTB</th>\n",
       "      <td>26094940.28</td>\n",
       "    </tr>\n",
       "    <tr>\n",
       "      <th>PTC</th>\n",
       "      <td>1614038.44</td>\n",
       "    </tr>\n",
       "    <tr>\n",
       "      <th>PTN</th>\n",
       "      <td>478643.79</td>\n",
       "    </tr>\n",
       "    <tr>\n",
       "      <th>PV</th>\n",
       "      <td>13383034.92</td>\n",
       "    </tr>\n",
       "  </tbody>\n",
       "</table>\n",
       "</div>"
      ],
      "text/plain": [
       "               Contributions Total Revenue\n",
       "SIGLA_PARTIDO                             \n",
       "PAN                              749679.45\n",
       "PC do B                         5498693.75\n",
       "PCB                               13198.00\n",
       "PDT                            26477384.56\n",
       "PFL                            77143088.59\n",
       "PHS                              914027.18\n",
       "PL                             15992063.73\n",
       "PMDB                          128951445.87\n",
       "PMN                             3218491.67\n",
       "PP                             34094431.93\n",
       "PPS                            31076793.92\n",
       "PRB                               55340.00\n",
       "PRONA                           1160089.42\n",
       "PRP                             1090877.94\n",
       "PRTB                             837880.66\n",
       "PSB                            22548187.46\n",
       "PSC                             4647620.30\n",
       "PSDB                          121890179.53\n",
       "PSDC                            2318908.38\n",
       "PSL                              780162.81\n",
       "PSOL                             138441.59\n",
       "PSTU                               1179.64\n",
       "PT                             70299272.73\n",
       "PT do B                          919393.20\n",
       "PTB                            26094940.28\n",
       "PTC                             1614038.44\n",
       "PTN                              478643.79\n",
       "PV                             13383034.92"
      ]
     },
     "execution_count": 32,
     "metadata": {},
     "output_type": "execute_result"
    }
   ],
   "source": [
    "tb2006_partido = pd.pivot_table(df2006_jur_sd, values = 'VALOR_RECEITA', index = 'SIGLA_PARTIDO', columns = 'NUMERO_CPF_CGC_DOADOR', aggfunc = 'sum')\n",
    "tb2006_partido['Contributions Total Revenue'] = pd.DataFrame(tb2006_partido.sum(axis = 1, skipna = True))\n",
    "tb2006_partido_resumo = pd.DataFrame(tb2006_partido['Contributions Total Revenue'])\n",
    "tb2006_partido_resumo"
   ]
  },
  {
   "cell_type": "code",
   "execution_count": 33,
   "metadata": {
    "scrolled": true
   },
   "outputs": [
    {
     "data": {
      "text/html": [
       "<div>\n",
       "<style scoped>\n",
       "    .dataframe tbody tr th:only-of-type {\n",
       "        vertical-align: middle;\n",
       "    }\n",
       "\n",
       "    .dataframe tbody tr th {\n",
       "        vertical-align: top;\n",
       "    }\n",
       "\n",
       "    .dataframe thead th {\n",
       "        text-align: right;\n",
       "    }\n",
       "</style>\n",
       "<table border=\"1\" class=\"dataframe\">\n",
       "  <thead>\n",
       "    <tr style=\"text-align: right;\">\n",
       "      <th></th>\n",
       "      <th>Contributions Total Revenue</th>\n",
       "    </tr>\n",
       "    <tr>\n",
       "      <th>SIGLA_PARTIDO</th>\n",
       "      <th></th>\n",
       "    </tr>\n",
       "  </thead>\n",
       "  <tbody>\n",
       "    <tr>\n",
       "      <th>DEM</th>\n",
       "      <td>84337404.56</td>\n",
       "    </tr>\n",
       "    <tr>\n",
       "      <th>PC do B</th>\n",
       "      <td>15039361.65</td>\n",
       "    </tr>\n",
       "    <tr>\n",
       "      <th>PCB</th>\n",
       "      <td>11140.00</td>\n",
       "    </tr>\n",
       "    <tr>\n",
       "      <th>PDT</th>\n",
       "      <td>40014923.41</td>\n",
       "    </tr>\n",
       "    <tr>\n",
       "      <th>PHS</th>\n",
       "      <td>3417414.09</td>\n",
       "    </tr>\n",
       "    <tr>\n",
       "      <th>PMDB</th>\n",
       "      <td>181174106.11</td>\n",
       "    </tr>\n",
       "    <tr>\n",
       "      <th>PMN</th>\n",
       "      <td>17528089.06</td>\n",
       "    </tr>\n",
       "    <tr>\n",
       "      <th>PP</th>\n",
       "      <td>50202786.06</td>\n",
       "    </tr>\n",
       "    <tr>\n",
       "      <th>PPS</th>\n",
       "      <td>29723654.94</td>\n",
       "    </tr>\n",
       "    <tr>\n",
       "      <th>PR</th>\n",
       "      <td>45147930.68</td>\n",
       "    </tr>\n",
       "    <tr>\n",
       "      <th>PRB</th>\n",
       "      <td>4008096.05</td>\n",
       "    </tr>\n",
       "    <tr>\n",
       "      <th>PRP</th>\n",
       "      <td>2614827.49</td>\n",
       "    </tr>\n",
       "    <tr>\n",
       "      <th>PRTB</th>\n",
       "      <td>2853173.51</td>\n",
       "    </tr>\n",
       "    <tr>\n",
       "      <th>PSB</th>\n",
       "      <td>59646487.63</td>\n",
       "    </tr>\n",
       "    <tr>\n",
       "      <th>PSC</th>\n",
       "      <td>15147952.18</td>\n",
       "    </tr>\n",
       "    <tr>\n",
       "      <th>PSDB</th>\n",
       "      <td>202400244.48</td>\n",
       "    </tr>\n",
       "    <tr>\n",
       "      <th>PSDC</th>\n",
       "      <td>982468.95</td>\n",
       "    </tr>\n",
       "    <tr>\n",
       "      <th>PSL</th>\n",
       "      <td>6780569.01</td>\n",
       "    </tr>\n",
       "    <tr>\n",
       "      <th>PSOL</th>\n",
       "      <td>623121.95</td>\n",
       "    </tr>\n",
       "    <tr>\n",
       "      <th>PT</th>\n",
       "      <td>190990751.25</td>\n",
       "    </tr>\n",
       "    <tr>\n",
       "      <th>PT do B</th>\n",
       "      <td>2870395.37</td>\n",
       "    </tr>\n",
       "    <tr>\n",
       "      <th>PTB</th>\n",
       "      <td>41337506.83</td>\n",
       "    </tr>\n",
       "    <tr>\n",
       "      <th>PTC</th>\n",
       "      <td>2481584.57</td>\n",
       "    </tr>\n",
       "    <tr>\n",
       "      <th>PTN</th>\n",
       "      <td>3514441.82</td>\n",
       "    </tr>\n",
       "    <tr>\n",
       "      <th>PV</th>\n",
       "      <td>23870281.50</td>\n",
       "    </tr>\n",
       "  </tbody>\n",
       "</table>\n",
       "</div>"
      ],
      "text/plain": [
       "               Contributions Total Revenue\n",
       "SIGLA_PARTIDO                             \n",
       "DEM                            84337404.56\n",
       "PC do B                        15039361.65\n",
       "PCB                               11140.00\n",
       "PDT                            40014923.41\n",
       "PHS                             3417414.09\n",
       "PMDB                          181174106.11\n",
       "PMN                            17528089.06\n",
       "PP                             50202786.06\n",
       "PPS                            29723654.94\n",
       "PR                             45147930.68\n",
       "PRB                             4008096.05\n",
       "PRP                             2614827.49\n",
       "PRTB                            2853173.51\n",
       "PSB                            59646487.63\n",
       "PSC                            15147952.18\n",
       "PSDB                          202400244.48\n",
       "PSDC                             982468.95\n",
       "PSL                             6780569.01\n",
       "PSOL                             623121.95\n",
       "PT                            190990751.25\n",
       "PT do B                         2870395.37\n",
       "PTB                            41337506.83\n",
       "PTC                             2481584.57\n",
       "PTN                             3514441.82\n",
       "PV                             23870281.50"
      ]
     },
     "execution_count": 33,
     "metadata": {},
     "output_type": "execute_result"
    }
   ],
   "source": [
    "tb2010_partido = pd.pivot_table(df2010_jur_sd, values = 'VALOR_RECEITA', index = 'SIGLA_PARTIDO', columns = 'CPF_CNPJ_DOADOR', aggfunc = 'sum')\n",
    "tb2010_partido['Contributions Total Revenue'] = pd.DataFrame(tb2010_partido.sum(axis = 1, skipna = True))\n",
    "tb2010_partido_resumo = pd.DataFrame(tb2010_partido['Contributions Total Revenue'])\n",
    "tb2010_partido_resumo"
   ]
  },
  {
   "cell_type": "code",
   "execution_count": 34,
   "metadata": {
    "scrolled": true
   },
   "outputs": [
    {
     "data": {
      "text/html": [
       "<div>\n",
       "<style scoped>\n",
       "    .dataframe tbody tr th:only-of-type {\n",
       "        vertical-align: middle;\n",
       "    }\n",
       "\n",
       "    .dataframe tbody tr th {\n",
       "        vertical-align: top;\n",
       "    }\n",
       "\n",
       "    .dataframe thead th {\n",
       "        text-align: right;\n",
       "    }\n",
       "</style>\n",
       "<table border=\"1\" class=\"dataframe\">\n",
       "  <thead>\n",
       "    <tr style=\"text-align: right;\">\n",
       "      <th></th>\n",
       "      <th>Contributions Total Revenue</th>\n",
       "    </tr>\n",
       "    <tr>\n",
       "      <th>Sigla  Partido</th>\n",
       "      <th></th>\n",
       "    </tr>\n",
       "  </thead>\n",
       "  <tbody>\n",
       "    <tr>\n",
       "      <th>DEM</th>\n",
       "      <td>34968241.71</td>\n",
       "    </tr>\n",
       "    <tr>\n",
       "      <th>PC do B</th>\n",
       "      <td>12679098.84</td>\n",
       "    </tr>\n",
       "    <tr>\n",
       "      <th>PCB</th>\n",
       "      <td>3176.64</td>\n",
       "    </tr>\n",
       "    <tr>\n",
       "      <th>PDT</th>\n",
       "      <td>40803663.21</td>\n",
       "    </tr>\n",
       "    <tr>\n",
       "      <th>PEN</th>\n",
       "      <td>4717767.36</td>\n",
       "    </tr>\n",
       "    <tr>\n",
       "      <th>PHS</th>\n",
       "      <td>3874188.46</td>\n",
       "    </tr>\n",
       "    <tr>\n",
       "      <th>PMDB</th>\n",
       "      <td>156049300.68</td>\n",
       "    </tr>\n",
       "    <tr>\n",
       "      <th>PMN</th>\n",
       "      <td>2416247.29</td>\n",
       "    </tr>\n",
       "    <tr>\n",
       "      <th>PP</th>\n",
       "      <td>47878734.41</td>\n",
       "    </tr>\n",
       "    <tr>\n",
       "      <th>PPL</th>\n",
       "      <td>1619618.04</td>\n",
       "    </tr>\n",
       "    <tr>\n",
       "      <th>PPS</th>\n",
       "      <td>17945107.27</td>\n",
       "    </tr>\n",
       "    <tr>\n",
       "      <th>PR</th>\n",
       "      <td>22124536.07</td>\n",
       "    </tr>\n",
       "    <tr>\n",
       "      <th>PRB</th>\n",
       "      <td>7777156.91</td>\n",
       "    </tr>\n",
       "    <tr>\n",
       "      <th>PROS</th>\n",
       "      <td>19515752.41</td>\n",
       "    </tr>\n",
       "    <tr>\n",
       "      <th>PRP</th>\n",
       "      <td>2329884.93</td>\n",
       "    </tr>\n",
       "    <tr>\n",
       "      <th>PRTB</th>\n",
       "      <td>1374933.05</td>\n",
       "    </tr>\n",
       "    <tr>\n",
       "      <th>PSB</th>\n",
       "      <td>71873319.27</td>\n",
       "    </tr>\n",
       "    <tr>\n",
       "      <th>PSC</th>\n",
       "      <td>11407619.03</td>\n",
       "    </tr>\n",
       "    <tr>\n",
       "      <th>PSD</th>\n",
       "      <td>69570371.06</td>\n",
       "    </tr>\n",
       "    <tr>\n",
       "      <th>PSDB</th>\n",
       "      <td>177860162.34</td>\n",
       "    </tr>\n",
       "    <tr>\n",
       "      <th>PSDC</th>\n",
       "      <td>1753408.32</td>\n",
       "    </tr>\n",
       "    <tr>\n",
       "      <th>PSL</th>\n",
       "      <td>6726382.40</td>\n",
       "    </tr>\n",
       "    <tr>\n",
       "      <th>PSOL</th>\n",
       "      <td>208203.40</td>\n",
       "    </tr>\n",
       "    <tr>\n",
       "      <th>PSTU</th>\n",
       "      <td>2228.66</td>\n",
       "    </tr>\n",
       "    <tr>\n",
       "      <th>PT</th>\n",
       "      <td>443265268.22</td>\n",
       "    </tr>\n",
       "    <tr>\n",
       "      <th>PT do B</th>\n",
       "      <td>4359255.66</td>\n",
       "    </tr>\n",
       "    <tr>\n",
       "      <th>PTB</th>\n",
       "      <td>27964215.38</td>\n",
       "    </tr>\n",
       "    <tr>\n",
       "      <th>PTC</th>\n",
       "      <td>2837681.77</td>\n",
       "    </tr>\n",
       "    <tr>\n",
       "      <th>PTN</th>\n",
       "      <td>3629044.20</td>\n",
       "    </tr>\n",
       "    <tr>\n",
       "      <th>PV</th>\n",
       "      <td>15486081.61</td>\n",
       "    </tr>\n",
       "    <tr>\n",
       "      <th>SD</th>\n",
       "      <td>13105032.50</td>\n",
       "    </tr>\n",
       "  </tbody>\n",
       "</table>\n",
       "</div>"
      ],
      "text/plain": [
       "                Contributions Total Revenue\n",
       "Sigla  Partido                             \n",
       "DEM                             34968241.71\n",
       "PC do B                         12679098.84\n",
       "PCB                                 3176.64\n",
       "PDT                             40803663.21\n",
       "PEN                              4717767.36\n",
       "PHS                              3874188.46\n",
       "PMDB                           156049300.68\n",
       "PMN                              2416247.29\n",
       "PP                              47878734.41\n",
       "PPL                              1619618.04\n",
       "PPS                             17945107.27\n",
       "PR                              22124536.07\n",
       "PRB                              7777156.91\n",
       "PROS                            19515752.41\n",
       "PRP                              2329884.93\n",
       "PRTB                             1374933.05\n",
       "PSB                             71873319.27\n",
       "PSC                             11407619.03\n",
       "PSD                             69570371.06\n",
       "PSDB                           177860162.34\n",
       "PSDC                             1753408.32\n",
       "PSL                              6726382.40\n",
       "PSOL                              208203.40\n",
       "PSTU                                2228.66\n",
       "PT                             443265268.22\n",
       "PT do B                          4359255.66\n",
       "PTB                             27964215.38\n",
       "PTC                              2837681.77\n",
       "PTN                              3629044.20\n",
       "PV                              15486081.61\n",
       "SD                              13105032.50"
      ]
     },
     "execution_count": 34,
     "metadata": {},
     "output_type": "execute_result"
    }
   ],
   "source": [
    "tb2014_partido = pd.pivot_table(df2014_jur_sd, values = 'Valor receita', index = 'Sigla  Partido', columns = 'CPF/CNPJ do doador originário', aggfunc = 'sum')\n",
    "tb2014_partido['Contributions Total Revenue'] = pd.DataFrame(tb2014_partido.sum(axis = 1, skipna = True))\n",
    "tb2014_partido_resumo = pd.DataFrame(tb2014_partido['Contributions Total Revenue'])\n",
    "tb2014_partido_resumo"
   ]
  },
  {
   "cell_type": "code",
   "execution_count": 35,
   "metadata": {},
   "outputs": [
    {
     "data": {
      "text/plain": [
       "Index(['Cód. Eleição', 'Desc. Eleição', 'Data e hora', 'CNPJ Prestador Conta',\n",
       "       'Sequencial Candidato', 'UF', 'Sigla  Partido', 'Numero candidato',\n",
       "       'Cargo', 'Nome candidato', 'CPF do candidato',\n",
       "       'Numero Recibo Eleitoral', 'Numero do documento', 'CPF/CNPJ do doador',\n",
       "       'Nome do doador', 'Nome do doador (Receita Federal)', 'Sigla UE doador',\n",
       "       'Número partido doador', 'Número candidato doador',\n",
       "       'Cod setor econômico do doador', 'Setor econômico do doador',\n",
       "       'Data da receita', 'Valor receita', 'Tipo receita', 'Fonte recurso',\n",
       "       'Especie recurso', 'Descricao da receita',\n",
       "       'CPF/CNPJ do doador originário', 'Nome do doador originário',\n",
       "       'Tipo doador originário', 'Setor econômico do doador originário',\n",
       "       'Nome do doador originário (Receita Federal)'],\n",
       "      dtype='object')"
      ]
     },
     "execution_count": 35,
     "metadata": {},
     "output_type": "execute_result"
    }
   ],
   "source": [
    "df2014_jur_sd.columns\n"
   ]
  },
  {
   "cell_type": "code",
   "execution_count": null,
   "metadata": {},
   "outputs": [],
   "source": []
  },
  {
   "cell_type": "code",
   "execution_count": null,
   "metadata": {},
   "outputs": [],
   "source": []
  }
 ],
 "metadata": {
  "kernelspec": {
   "display_name": "Python 3",
   "language": "python",
   "name": "python3"
  },
  "language_info": {
   "codemirror_mode": {
    "name": "ipython",
    "version": 3
   },
   "file_extension": ".py",
   "mimetype": "text/x-python",
   "name": "python",
   "nbconvert_exporter": "python",
   "pygments_lexer": "ipython3",
   "version": "3.7.6"
  }
 },
 "nbformat": 4,
 "nbformat_minor": 4
}
